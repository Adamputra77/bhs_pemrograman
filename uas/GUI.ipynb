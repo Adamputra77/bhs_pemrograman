{
 "cells": [
  {
   "cell_type": "markdown",
   "metadata": {},
   "source": [
    "## GUI (Graphical User Interface) adalah antarmuka pengguna yang memungkinkan interaksi dengan perangkat lunak melalui elemen grafis seperti tombol, jendela, dan ikon, bukan melalui teks atau perintah berbasis baris. GUI mempermudah penggunaan aplikasi karena pengguna dapat berinteraksi dengan program secara visual.\n",
    "\n",
    "Python menyediakan beberapa pustaka untuk membuat GUI, salah satu yang paling populer adalah Tkinter. Tkinter adalah pustaka standar Python untuk membuat antarmuka grafis yang sederhana dan mudah digunakan.\n",
    "\n",
    "## Contoh Membuat GUI dengan Tkinter Berikut adalah contoh sederhana membuat aplikasi GUI dengan Tkinter:"
   ]
  },
  {
   "cell_type": "code",
   "execution_count": 10,
   "metadata": {},
   "outputs": [],
   "source": [
    "import tkinter as tk\n",
    "from tkinter import messagebox\n",
    "\n",
    "def on_button_click():\n",
    "    \"\"\"Fungsi yang akan dijalankan saat tombol diklik.\"\"\"\n",
    "    user_name = entry.get()\n",
    "    messagebox.showinfo(\"Hello\", f\"Hello, {user_name}!\")\n",
    "\n",
    "# Membuat instance dari Tkinter\n",
    "root = tk.Tk()\n",
    "root.title(\"Contoh GUI dengan Tkinter\")\n",
    "\n",
    "# Membuat label\n",
    "label = tk.Label(root, text=\"Masukkan nama Anda:\")\n",
    "label.pack(pady=10)\n",
    "\n",
    "# Membuat entry (input teks)\n",
    "entry = tk.Entry(root)\n",
    "entry.pack(pady=5)\n",
    "\n",
    "# Membuat tombol\n",
    "button = tk.Button(root, text=\"Klik Saya\", command=on_button_click)\n",
    "button.pack(pady=10)\n",
    "\n",
    "# Menjalankan aplikasi\n",
    "root.mainloop()\n"
   ]
  },
  {
   "cell_type": "markdown",
   "metadata": {},
   "source": [
    "## Penjelasan Kode\n",
    "\n",
    "Import Pustaka: Mengimpor pustaka tkinter dan messagebox.\n",
    "Fungsi on_button_click: Fungsi ini akan dijalankan saat tombol diklik. Fungsi ini mengambil teks dari entry dan menampilkan kotak pesan dengan teks tersebut.\n",
    "Membuat Instance Tkinter: Membuat instance dari Tk yang merupakan jendela utama aplikasi.\n",
    "Menambahkan Label: Membuat label dengan teks \"Masukkan nama Anda:\" dan menambahkannya ke jendela utama.\n",
    "Menambahkan Entry: Membuat entry untuk input teks dan menambahkannya ke jendela utama.\n",
    "Menambahkan Tombol: Membuat tombol dengan teks \"Klik Saya\" dan mengaitkannya dengan fungsi on_button_click.\n",
    "Menjalankan Aplikasi: Memanggil root.mainloop() untuk memulai loop utama aplikasi sehingga jendela GUI tetap muncul dan dapat berinteraksi dengan pengguna.\n",
    "Dengan contoh di atas, Anda dapat membuat antarmuka pengguna yang interaktif dan mudah digunakan. Tkinter menyediakan banyak widget lain seperti checkbox, radio button, dan menu yang dapat Anda gunakan untuk membuat aplikasi GUI yang lebih kompleks."
   ]
  }
 ],
 "metadata": {
  "kernelspec": {
   "display_name": "Python 3",
   "language": "python",
   "name": "python3"
  },
  "language_info": {
   "codemirror_mode": {
    "name": "ipython",
    "version": 3
   },
   "file_extension": ".py",
   "mimetype": "text/x-python",
   "name": "python",
   "nbconvert_exporter": "python",
   "pygments_lexer": "ipython3",
   "version": "3.10.12"
  }
 },
 "nbformat": 4,
 "nbformat_minor": 2
}
