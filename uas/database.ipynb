{
 "cells": [
  {
   "cell_type": "markdown",
   "metadata": {
    "vscode": {
     "languageId": "plaintext"
    }
   },
   "source": [
    "## Aplikasi dapat berkomunikasi dengan database menggunakan berbagai pustaka dan modul dalam Python. Salah satu pustaka yang paling umum digunakan adalah sqlite3 untuk SQLite, psycopg2 untuk PostgreSQL, dan PyMySQL untuk MySQL.\n",
    "\n",
    "Langkah-langkah Umum untuk Berkomunikasi dengan Database\n",
    "Mengimpor Pustaka Database: Mengimpor pustaka yang sesuai untuk database yang digunakan.\n",
    "Membuat Koneksi ke Database: Menggunakan pustaka untuk membuat koneksi ke database.\n",
    "Membuat Cursor: Cursor digunakan untuk mengeksekusi perintah SQL.\n",
    "Menjalankan Perintah SQL: Menjalankan perintah SQL untuk membaca, menulis, mengupdate, atau menghapus data.\n",
    "Mengambil Hasil (Jika Ada): Mengambil hasil dari perintah SQL (untuk operasi baca).\n",
    "Menutup Koneksi: Menutup koneksi ke database setelah operasi selesai.\n",
    "Contoh dengan SQLite\n",
    "SQLite adalah database yang ringan dan tidak memerlukan server terpisah. Ini sangat baik untuk aplikasi kecil dan prototyping.\n",
    "\n",
    "Membuat dan Mengakses Database SQLite dengan sqlite3\n",
    "\n",
    "## Contoh Sourcode Lengkap"
   ]
  },
  {
   "cell_type": "code",
   "execution_count": 3,
   "metadata": {},
   "outputs": [
    {
     "name": "stdout",
     "output_type": "stream",
     "text": [
      "Koneksi ke SQLite berhasil\n",
      "Tabel users berhasil dibuat\n",
      "User berhasil ditambahkan\n",
      "User berhasil ditambahkan\n",
      "Data di tabel users:\n",
      "(1, 'Alice', 30)\n",
      "(2, 'Bob', 25)\n"
     ]
    }
   ],
   "source": [
    "import sqlite3\n",
    "\n",
    "def create_connection(db_file):\n",
    "    \"\"\"Membuat koneksi ke database SQLite.\"\"\"\n",
    "    conn = None\n",
    "    try:\n",
    "        conn = sqlite3.connect(db_file)\n",
    "        print(\"Koneksi ke SQLite berhasil\")\n",
    "    except sqlite3.Error as e:\n",
    "        print(e)\n",
    "    return conn\n",
    "\n",
    "def create_table(conn):\n",
    "    \"\"\"Membuat tabel users.\"\"\"\n",
    "    try:\n",
    "        sql_create_users_table = '''\n",
    "            CREATE TABLE IF NOT EXISTS users (\n",
    "                id INTEGER PRIMARY KEY,\n",
    "                name TEXT NOT NULL,\n",
    "                age INTEGER\n",
    "            );\n",
    "        '''\n",
    "        cursor = conn.cursor()\n",
    "        cursor.execute(sql_create_users_table)\n",
    "        print(\"Tabel users berhasil dibuat\")\n",
    "    except sqlite3.Error as e:\n",
    "        print(e)\n",
    "\n",
    "def insert_user(conn, user):\n",
    "    \"\"\"Menambahkan user baru ke tabel users.\"\"\"\n",
    "    sql_insert_user = '''\n",
    "        INSERT INTO users (name, age) VALUES (?, ?)\n",
    "    '''\n",
    "    cursor = conn.cursor()\n",
    "    cursor.execute(sql_insert_user, user)\n",
    "    conn.commit()\n",
    "    print(\"User berhasil ditambahkan\")\n",
    "\n",
    "def select_all_users(conn):\n",
    "    \"\"\"Mengambil semua user dari tabel users.\"\"\"\n",
    "    cursor = conn.cursor()\n",
    "    cursor.execute(\"SELECT * FROM users\")\n",
    "    rows = cursor.fetchall()\n",
    "    for row in rows:\n",
    "        print(row)\n",
    "\n",
    "def main():\n",
    "    database = \"example.db\"\n",
    "\n",
    "    # Membuat koneksi ke database\n",
    "    conn = create_connection(database)\n",
    "\n",
    "    # Membuat tabel baru\n",
    "    if conn is not None:\n",
    "        create_table(conn)\n",
    "        # Menambahkan user baru\n",
    "        insert_user(conn, ('Alice', 30))\n",
    "        insert_user(conn, ('Bob', 25))\n",
    "\n",
    "        # Mengambil semua user\n",
    "        print(\"Data di tabel users:\")\n",
    "        select_all_users(conn)\n",
    "    else:\n",
    "        print(\"Error! Tidak bisa membuat koneksi ke database.\")\n",
    "\n",
    "    # Menutup koneksi\n",
    "    if conn:\n",
    "        conn.close()\n",
    "\n",
    "if __name__ == '__main__':\n",
    "    main()\n"
   ]
  },
  {
   "cell_type": "markdown",
   "metadata": {},
   "source": [
    "## Penjelasan Kode\n",
    "\n",
    "create_connection: Membuat koneksi ke database SQLite.\n",
    "create_table: Membuat tabel users jika belum ada.\n",
    "insert_user: Menambahkan data user ke tabel users.\n",
    "select_all_users: Mengambil semua data dari tabel users dan mencetaknya.\n",
    "main: Fungsi utama yang mengatur alur program, mulai dari membuat koneksi, membuat tabel, menambahkan data, hingga mengambil dan mencetak data.\n",
    "Dengan mengikuti contoh di atas, Anda dapat membuat aplikasi Python yang dapat berkomunikasi dengan database SQLite. Anda bisa mengganti SQLite dengan database lain (seperti PostgreSQL atau MySQL) dengan menyesuaikan pustaka dan cara koneksi yang digunakan.\n",
    "\n",
    "\n",
    "\n",
    "\n",
    "\n",
    "\n"
   ]
  }
 ],
 "metadata": {
  "kernelspec": {
   "display_name": "Python 3",
   "language": "python",
   "name": "python3"
  },
  "language_info": {
   "codemirror_mode": {
    "name": "ipython",
    "version": 3
   },
   "file_extension": ".py",
   "mimetype": "text/x-python",
   "name": "python",
   "nbconvert_exporter": "python",
   "pygments_lexer": "ipython3",
   "version": "3.10.12"
  }
 },
 "nbformat": 4,
 "nbformat_minor": 2
}
