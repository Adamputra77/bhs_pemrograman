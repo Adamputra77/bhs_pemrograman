{
 "cells": [
  {
   "cell_type": "markdown",
   "metadata": {},
   "source": [
    "## Exception handling adalah mekanisme dalam pemrograman untuk menangani kesalahan atau pengecualian (exception) yang terjadi selama eksekusi program. Dalam Python, exception handling dilakukan menggunakan blok try, except, else, dan finally."
   ]
  },
  {
   "cell_type": "markdown",
   "metadata": {},
   "source": [
    "## Komponen Exception Handling\n",
    "try: Blok ini berisi kode yang mungkin menimbulkan pengecualian.\n",
    "except: Blok ini berisi kode yang akan dieksekusi jika pengecualian terjadi.\n",
    "\n",
    "## else: Blok ini berisi kode yang akan dieksekusi jika tidak ada pengecualian yang terjadi di blok try.\n",
    "finally: Blok ini berisi kode yang akan selalu dieksekusi, baik pengecualian terjadi maupun tidak.\n",
    "\n",
    "## Contoh Exception Handling\n",
    "Berikut ini adalah contoh penggunaan exception handling dalam Python:"
   ]
  },
  {
   "cell_type": "code",
   "execution_count": 1,
   "metadata": {},
   "outputs": [
    {
     "name": "stdout",
     "output_type": "stream",
     "text": [
      "Pembagian berhasil.\n",
      "Operasi pembagian selesai.\n",
      "5.0\n",
      "Error: Tidak bisa membagi dengan nol!\n",
      "Operasi pembagian selesai.\n",
      "None\n"
     ]
    }
   ],
   "source": [
    "def divide(a, b):\n",
    "    \"\"\"Membagi dua bilangan dan menangani pengecualian jika terjadi pembagian dengan nol.\"\"\"\n",
    "    try:\n",
    "        result = a / b\n",
    "    except ZeroDivisionError:\n",
    "        print(\"Error: Tidak bisa membagi dengan nol!\")\n",
    "        return None\n",
    "    else:\n",
    "        print(\"Pembagian berhasil.\")\n",
    "        return result\n",
    "    finally:\n",
    "        print(\"Operasi pembagian selesai.\")\n",
    "\n",
    "# Memanggil fungsi divide dengan argumen yang tidak menyebabkan pengecualian\n",
    "print(divide(10, 2))  # Output: Pembagian berhasil. 5.0\n",
    "\n",
    "# Memanggil fungsi divide dengan argumen yang menyebabkan pengecualian\n",
    "print(divide(10, 0))  # Output: Error: Tidak bisa membagi dengan nol! None\n"
   ]
  },
  {
   "cell_type": "markdown",
   "metadata": {},
   "source": [
    "## Penjelasan contoh di atas:\n",
    "\n",
    "try: Blok ini mencoba melakukan pembagian a / b.\n",
    "except ZeroDivisionError: Blok ini menangani pengecualian jika terjadi pembagian dengan nol.\n",
    "\n",
    "## else: Blok ini dieksekusi jika tidak ada pengecualian yang terjadi di blok try.\n",
    "finally: Blok ini selalu dieksekusi, terlepas dari apakah pengecualian terjadi atau tidak.\n",
    "\n",
    "## Contoh Lain: Menangani Multiple Exceptions\n",
    "Anda juga dapat menangani beberapa jenis pengecualian dengan menggunakan beberapa blok except:"
   ]
  },
  {
   "cell_type": "code",
   "execution_count": 2,
   "metadata": {},
   "outputs": [
    {
     "name": "stdout",
     "output_type": "stream",
     "text": [
      "Error: File tidak ditemukan!\n",
      "Operasi membaca file selesai.\n",
      "None\n"
     ]
    }
   ],
   "source": [
    "def read_file(file_path):\n",
    "    \"\"\"Membaca isi file dan menangani pengecualian jika file tidak ditemukan atau terjadi kesalahan lain.\"\"\"\n",
    "    try:\n",
    "        with open(file_path, 'r') as file:\n",
    "            content = file.read()\n",
    "            return content\n",
    "    except FileNotFoundError:\n",
    "        print(\"Error: File tidak ditemukan!\")\n",
    "    except IOError:\n",
    "        print(\"Error: Terjadi kesalahan saat membaca file!\")\n",
    "    finally:\n",
    "        print(\"Operasi membaca file selesai.\")\n",
    "\n",
    "# Memanggil fungsi read_file dengan file yang tidak ada\n",
    "print(read_file(\"nonexistent_file.txt\"))  # Output: Error: File tidak ditemukan! None\n"
   ]
  },
  {
   "cell_type": "markdown",
   "metadata": {},
   "source": [
    "## Dalam contoh di atas:\n",
    "\n",
    "except FileNotFoundError: Blok ini menangani pengecualian jika file tidak ditemukan.\n",
    "except IOError: Blok ini menangani pengecualian jika terjadi kesalahan saat membaca file.\n",
    "finally: Blok ini selalu dieksekusi setelah blok try dan except."
   ]
  }
 ],
 "metadata": {
  "kernelspec": {
   "display_name": "Python 3",
   "language": "python",
   "name": "python3"
  },
  "language_info": {
   "codemirror_mode": {
    "name": "ipython",
    "version": 3
   },
   "file_extension": ".py",
   "mimetype": "text/x-python",
   "name": "python",
   "nbconvert_exporter": "python",
   "pygments_lexer": "ipython3",
   "version": "3.10.12"
  }
 },
 "nbformat": 4,
 "nbformat_minor": 2
}
