{
 "cells": [
  {
   "cell_type": "markdown",
   "metadata": {},
   "source": [
    "## Function\n",
    "\n",
    "Function adalah blok kode yang dirancang untuk melakukan tugas tertentu. Function memungkinkan Anda untuk mengelompokkan kode yang dapat digunakan kembali dan mempermudah pembacaan dan pemeliharaan kode. Anda dapat mendefinisikan function menggunakan kata kunci def diikuti dengan nama function dan tanda kurung."
   ]
  },
  {
   "cell_type": "markdown",
   "metadata": {},
   "source": [
    "## Contoh Function Sederhana"
   ]
  },
  {
   "cell_type": "code",
   "execution_count": 2,
   "metadata": {},
   "outputs": [
    {
     "name": "stdout",
     "output_type": "stream",
     "text": [
      "Hello, Andi!\n"
     ]
    }
   ],
   "source": [
    "def greet(name):\n",
    "    \"\"\"Fungsi ini menyapa seseorang dengan namanya.\"\"\"\n",
    "    print(f\"Hello, {name}!\")\n",
    "\n",
    "# Memanggil function greet\n",
    "greet(\"Andi\")\n"
   ]
  },
  {
   "cell_type": "markdown",
   "metadata": {},
   "source": [
    "## Recursive function\n",
    "\n",
    "Recursive function adalah function yang memanggil dirinya sendiri. Rekursi digunakan untuk menyelesaikan masalah yang dapat dipecah menjadi sub-masalah yang lebih kecil dan serupa. Setiap recursive function harus memiliki kondisi dasar untuk menghentikan rekursi agar tidak berjalan tanpa henti.\n",
    "\n"
   ]
  },
  {
   "cell_type": "markdown",
   "metadata": {},
   "source": [
    "## Contoh recursive function untuk menghitung faktorial suatu bilangan:\n",
    "\n"
   ]
  },
  {
   "cell_type": "code",
   "execution_count": 3,
   "metadata": {},
   "outputs": [
    {
     "name": "stdout",
     "output_type": "stream",
     "text": [
      "120\n"
     ]
    }
   ],
   "source": [
    "def factorial(n):\n",
    "    \"\"\"Menghitung faktorial dari n secara rekursif.\"\"\"\n",
    "    if n == 0:\n",
    "        return 1\n",
    "    else:\n",
    "        return n * factorial(n - 1)\n",
    "\n",
    "# Menghitung faktorial dari 5\n",
    "print(factorial(5))  # Output: 120\n"
   ]
  },
  {
   "cell_type": "markdown",
   "metadata": {},
   "source": [
    "## def factorial(n):\n",
    "    \"\"\"Menghitung faktorial dari n secara rekursif.\"\"\"\n",
    "    if n == 0:\n",
    "        return 1\n",
    "    else:\n",
    "        return n * factorial(n - 1)\n",
    "\n",
    "# Menghitung faktorial dari 5\n",
    "print(factorial(5))  # Output: 120\n"
   ]
  },
  {
   "cell_type": "markdown",
   "metadata": {},
   "source": [
    "## Contoh lainnya: Fibonacci"
   ]
  },
  {
   "cell_type": "markdown",
   "metadata": {},
   "source": [
    "Contoh lain dari recursive function adalah menghitung bilangan Fibonacci:\n",
    "\n"
   ]
  },
  {
   "cell_type": "code",
   "execution_count": 4,
   "metadata": {},
   "outputs": [
    {
     "name": "stdout",
     "output_type": "stream",
     "text": [
      "13\n"
     ]
    }
   ],
   "source": [
    "def fibonacci(n):\n",
    "    \"\"\"Menghitung bilangan Fibonacci ke-n secara rekursif.\"\"\"\n",
    "    if n <= 1:\n",
    "        return n\n",
    "    else:\n",
    "        return fibonacci(n - 1) + fibonacci(n - 2)\n",
    "\n",
    "# Menghitung bilangan Fibonacci ke-7\n",
    "print(fibonacci(7))  # Output: 13\n"
   ]
  },
  {
   "cell_type": "markdown",
   "metadata": {},
   "source": [
    "## Penjelasan contoh di atas:\n",
    "\n",
    "Function fibonacci memanggil dirinya sendiri dengan nilai n-1 dan n-2.\n",
    "Kondisi dasar (if n <= 1) digunakan untuk menghentikan rekursi.\n",
    "Dengan menggunakan function dan rekursi, Anda dapat membuat kode yang lebih modular dan mudah dibaca.\n",
    "\n",
    "\n",
    "\n",
    "\n",
    "\n",
    "\n"
   ]
  }
 ],
 "metadata": {
  "kernelspec": {
   "display_name": "Python 3",
   "language": "python",
   "name": "python3"
  },
  "language_info": {
   "codemirror_mode": {
    "name": "ipython",
    "version": 3
   },
   "file_extension": ".py",
   "mimetype": "text/x-python",
   "name": "python",
   "nbconvert_exporter": "python",
   "pygments_lexer": "ipython3",
   "version": "3.10.12"
  }
 },
 "nbformat": 4,
 "nbformat_minor": 2
}
